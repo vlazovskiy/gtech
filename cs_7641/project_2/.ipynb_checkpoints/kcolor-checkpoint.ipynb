{
 "cells": [
  {
   "cell_type": "code",
   "execution_count": null,
   "metadata": {},
   "outputs": [],
   "source": [
    "import numpy as np\n",
    "import pandas as pd\n",
    "\n",
    "import mlrose_hiive\n",
    "\n",
    "from networkx.generators.random_graphs import erdos_renyi_graph"
   ]
  },
  {
   "cell_type": "code",
   "execution_count": null,
   "metadata": {},
   "outputs": [],
   "source": [
    "iters = 5 \n",
    "results = {}  \n",
    "p = 0.5 \n",
    "\n",
    "np.random.seed(2020)\n",
    "\n",
    "n_locations = [5, 10, 15, 20, 25, 30, 40, 50]"
   ]
  },
  {
   "cell_type": "code",
   "execution_count": null,
   "metadata": {},
   "outputs": [],
   "source": [
    "iters = 5 \n",
    "results = {}  \n",
    "p = 0.5 \n",
    "\n",
    "np.random.seed(2020)\n",
    "\n",
    "n_locations = [5, 10, 15, 20, 25, 30, 40, 50]\n",
    "coord_lists = {n_location: list(erdos_renyi_graph(n_location, p).edges) for n_location in n_locations}\n",
    "\n",
    "problem = mlrose_hiive.MaxKColorOpt"
   ]
  },
  {
   "cell_type": "code",
   "execution_count": null,
   "metadata": {},
   "outputs": [],
   "source": [
    "%%time\n",
    "n_loc_best_fits = {}\n",
    "\n",
    "for n_loc in n_locations:\n",
    "    fitness_coords = mlrose_hiive.MaxKColor(edges = coord_lists[n_loc])\n",
    "    problem_fit = mlrose_hiive.MaxKColorOpt(length = n_loc, \n",
    "                                            edges=coord_lists[n_loc],\n",
    "                                            fitness_fn = fitness_coords, \n",
    "                                            max_colors=n_loc//2,\n",
    "                                            maximize = True)\n",
    "    best_state, best_fitness, _ = mlrose_hiive.genetic_alg(problem_fit, random_state = 2020)\n",
    "    n_loc_best_fits[n_loc] = {'best_state': best_state, 'best_fitness' : best_fitness}"
   ]
  }
 ],
 "metadata": {
  "kernelspec": {
   "display_name": "Python 3",
   "language": "python",
   "name": "python3"
  },
  "language_info": {
   "codemirror_mode": {
    "name": "ipython",
    "version": 3
   },
   "file_extension": ".py",
   "mimetype": "text/x-python",
   "name": "python",
   "nbconvert_exporter": "python",
   "pygments_lexer": "ipython3",
   "version": "3.8.3"
  }
 },
 "nbformat": 4,
 "nbformat_minor": 4
}
